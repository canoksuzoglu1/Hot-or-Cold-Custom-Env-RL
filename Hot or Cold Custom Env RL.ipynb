{
 "cells": [
  {
   "cell_type": "code",
   "execution_count": 1,
   "id": "b3ca0ce7",
   "metadata": {},
   "outputs": [],
   "source": [
    "import gym \n",
    "from gym import Env\n",
    "from gym.spaces import Discrete, Box, Dict, Tuple, MultiBinary, MultiDiscrete \n",
    "import numpy as np\n",
    "import random\n",
    "import os\n",
    "from stable_baselines3.common.vec_env import VecFrameStack\n",
    "from stable_baselines3.common.evaluation import evaluate_policy"
   ]
  },
  {
   "cell_type": "code",
   "execution_count": 2,
   "id": "31a8a05e",
   "metadata": {},
   "outputs": [
    {
     "ename": "SyntaxError",
     "evalue": "incomplete input (4204514253.py, line 55)",
     "output_type": "error",
     "traceback": [
      "\u001b[0;36m  Cell \u001b[0;32mIn[2], line 55\u001b[0;36m\u001b[0m\n\u001b[0;31m    #return self.state\u001b[0m\n\u001b[0m                      ^\u001b[0m\n\u001b[0;31mSyntaxError\u001b[0m\u001b[0;31m:\u001b[0m incomplete input\n"
     ]
    }
   ],
   "source": [
    "class ShowerEnv(Env):\n",
    "    def __init__(self):\n",
    "        # Actions we can take, down, stay, up\n",
    "        #self.action_space = Discrete(3)\n",
    "        pass\n",
    "        # Temperature array\n",
    "        #self.observation_space = Box(low=np.array([0]), high=np.array([100]))\n",
    "        pass\n",
    "        # Set start temp\n",
    "        #self.state = 38 + random.randint(-3,3)\n",
    "        pass\n",
    "        # Set shower length\n",
    "        #self.shower_length = 60\n",
    "        pass\n",
    "        \n",
    "    def step(self, action):\n",
    "        # Apply action\n",
    "        # 0 -1 = -1 temperature\n",
    "        # 1 -1 = 0 \n",
    "        # 2 -1 = 1 temperature \n",
    "        self.state += action -1 \n",
    "        # Reduce shower length by 1 second\n",
    "        #self.shower_length -= 1 \n",
    "        pass\n",
    "        \n",
    "        # Calculate reward\n",
    "        #if self.state >=37 and self.state <=39: \n",
    "            #reward =1 \n",
    "        #else: \n",
    "            #reward = -1 \n",
    "        \n",
    "        # Check if shower is done\n",
    "        #if self.shower_length <= 0: \n",
    "            #done = True\n",
    "       # else:\n",
    "           # done = False\n",
    "        \n",
    "        # Apply temperature noise\n",
    "        #self.state += random.randint(-1,1)\n",
    "        # Set placeholder for info\n",
    "        #info = {}\n",
    "        \n",
    "        # Return step information\n",
    "        #return self.state, reward, done, info\n",
    "\n",
    "    def render(self):\n",
    "        # Implement viz\n",
    "        pass\n",
    "    \n",
    "    def reset(self):\n",
    "        # Reset shower temperature\n",
    "       # self.state = np.array([38 + random.randint(-3,3)]).astype(float)\n",
    "        # Reset shower time\n",
    "        #self.shower_length = 60 \n",
    "        #return self.state"
   ]
  },
  {
   "cell_type": "code",
   "execution_count": null,
   "id": "17f37fd3",
   "metadata": {},
   "outputs": [],
   "source": []
  }
 ],
 "metadata": {
  "kernelspec": {
   "display_name": "Python 3 (ipykernel)",
   "language": "python",
   "name": "python3"
  },
  "language_info": {
   "codemirror_mode": {
    "name": "ipython",
    "version": 3
   },
   "file_extension": ".py",
   "mimetype": "text/x-python",
   "name": "python",
   "nbconvert_exporter": "python",
   "pygments_lexer": "ipython3",
   "version": "3.11.5"
  }
 },
 "nbformat": 4,
 "nbformat_minor": 5
}
